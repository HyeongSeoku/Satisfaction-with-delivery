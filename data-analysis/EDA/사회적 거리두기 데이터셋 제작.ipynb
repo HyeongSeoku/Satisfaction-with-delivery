{
 "cells": [
  {
   "cell_type": "markdown",
   "id": "ba4d63ed",
   "metadata": {},
   "source": [
    "서울특별시 : 25\n",
    "부산광역시 : 16\n",
    "대구광역시 : 8\n",
    "인천광역시 : 10\n",
    "광주광역시 : 5\n",
    "대전광역시 : 5\n",
    "울산광역시 : 5\n",
    "세종특별자치시 : 28\n",
    "경기도 : 31\n",
    "강원도 : 18\n",
    "충청북도 : 11\n",
    "충청남도 : 15\n",
    "전라북도 : 14\n",
    "전라남도 : 22\n",
    "경상북도 : 23\n",
    "경상남도 : 18\n",
    "제주특별자치도 : 2"
   ]
  },
  {
   "cell_type": "markdown",
   "id": "49c337b4",
   "metadata": {},
   "source": [
    "# 사회적 거리두기 데이터셋 만들기  \n",
    "- 기준일자 : 2019.08.01 이후부터\n",
    "- 단위 : 광역시도?\n",
    "\n",
    "데이터 형태, 변수는?\n",
    "- 변수\n",
    "    - 지역(광역시도)\n",
    "    - 거리두기 단계\n",
    "    - 날짜"
   ]
  },
  {
   "cell_type": "code",
   "execution_count": null,
   "id": "2f9e84dd",
   "metadata": {},
   "outputs": [],
   "source": []
  },
  {
   "cell_type": "code",
   "execution_count": null,
   "id": "c1704b31",
   "metadata": {},
   "outputs": [],
   "source": []
  }
 ],
 "metadata": {
  "kernelspec": {
   "display_name": "Python 3.8.8 64-bit ('base': conda)",
   "language": "python",
   "name": "python388jvsc74a57bd030f5928aed3b8b0dce2d12ea3d5e897cedae7f244e0b1c57b84a978cd9054218"
  },
  "language_info": {
   "codemirror_mode": {
    "name": "ipython",
    "version": 3
   },
   "file_extension": ".py",
   "mimetype": "text/x-python",
   "name": "python",
   "nbconvert_exporter": "python",
   "pygments_lexer": "ipython3",
   "version": "3.8.8"
  }
 },
 "nbformat": 4,
 "nbformat_minor": 5
}
