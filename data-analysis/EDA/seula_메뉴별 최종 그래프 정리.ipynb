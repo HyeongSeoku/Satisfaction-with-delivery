{
 "cells": [
  {
   "cell_type": "markdown",
   "id": "3f2a7280",
   "metadata": {},
   "source": [
    "# 목차 \n",
    "## [1] 우리동네 배달보기\n",
    "    [1-1] 시간대별 배달\n",
    "    [1-2] 요일별 배달\n",
    "    [1-3] 공휴일 배달\n",
    "    [1-4] 코로나와 배달\n",
    "\n",
    "## [2] 동네끼리 비교하기\n",
    "    [2-1] 시간대별 배달\n",
    "    [2-2] 요일별 배달\n",
    "    [2-3] 공휴일 배달\n",
    "    [2-4] 코로나와 배달\n",
    "\n",
    "## [3] 배달특성 살펴보기 (예정)\n",
    "    [3-1] 비가 오나 눈이 오나 \n",
    "    [3-2] 아침/점심/저녁/야식 시간대별로 배달주문 가장 많은 지역 -> 지도로\n",
    "    [3-3] \n",
    "    \n",
    "## [4] 우리동네 배달 예측하기 (예정)\n",
    "\n",
    "  \n",
    "\n",
    "  \n",
    "\n",
    "\n",
    "\n",
    "### * 지역을 선택하는 차트는 모두 서울시 용산구를 기준으로 차팅했습니다. 서울시 용산구 기준으로 확인해보고 그래프가 일치하면 백에서 맞게 구현된 것임!\n"
   ]
  },
  {
   "cell_type": "markdown",
   "id": "d35719bf",
   "metadata": {},
   "source": [
    "### 데이터 정보\n",
    "'df' : 메인 배달 데이터에 요일, day_name(공휴일이름)이 추가된 데이터\n",
    "-> 편의를 위해 공휴일, 요일과 합친 것임. db에 별도의 테이블로 구성해서 조인해서 사용해도 무방함. \n"
   ]
  },
  {
   "cell_type": "code",
   "execution_count": 1,
   "id": "abb4a619",
   "metadata": {},
   "outputs": [],
   "source": [
    "import numpy as np\n",
    "import pandas as pd\n",
    "import matplotlib.pyplot as plt\n",
    "import seaborn as sns\n",
    "plt.rc('font', family='AppleGothic')"
   ]
  },
  {
   "cell_type": "code",
   "execution_count": 2,
   "id": "bc6770d8",
   "metadata": {},
   "outputs": [
    {
     "name": "stderr",
     "output_type": "stream",
     "text": [
      "/Users/seulalee/opt/anaconda3/lib/python3.8/site-packages/numpy/lib/arraysetops.py:583: FutureWarning: elementwise comparison failed; returning scalar instead, but in the future will perform elementwise comparison\n",
      "  mask |= (ar1 == a)\n"
     ]
    },
    {
     "data": {
      "text/html": [
       "<div>\n",
       "<style scoped>\n",
       "    .dataframe tbody tr th:only-of-type {\n",
       "        vertical-align: middle;\n",
       "    }\n",
       "\n",
       "    .dataframe tbody tr th {\n",
       "        vertical-align: top;\n",
       "    }\n",
       "\n",
       "    .dataframe thead th {\n",
       "        text-align: right;\n",
       "    }\n",
       "</style>\n",
       "<table border=\"1\" class=\"dataframe\">\n",
       "  <thead>\n",
       "    <tr style=\"text-align: right;\">\n",
       "      <th></th>\n",
       "      <th>날짜</th>\n",
       "      <th>시간대</th>\n",
       "      <th>광역시도</th>\n",
       "      <th>시군구</th>\n",
       "      <th>읍면동</th>\n",
       "      <th>배달건수</th>\n",
       "      <th>요일</th>\n",
       "      <th>day_name</th>\n",
       "      <th>holiday</th>\n",
       "    </tr>\n",
       "  </thead>\n",
       "  <tbody>\n",
       "    <tr>\n",
       "      <th>0</th>\n",
       "      <td>2019-08-01</td>\n",
       "      <td>0</td>\n",
       "      <td>강원도</td>\n",
       "      <td>속초시</td>\n",
       "      <td>교동</td>\n",
       "      <td>1</td>\n",
       "      <td>목</td>\n",
       "      <td>평일</td>\n",
       "      <td>N</td>\n",
       "    </tr>\n",
       "    <tr>\n",
       "      <th>1</th>\n",
       "      <td>2019-08-01</td>\n",
       "      <td>0</td>\n",
       "      <td>경기도</td>\n",
       "      <td>고양시 일산동구</td>\n",
       "      <td>마두동</td>\n",
       "      <td>4</td>\n",
       "      <td>목</td>\n",
       "      <td>평일</td>\n",
       "      <td>N</td>\n",
       "    </tr>\n",
       "    <tr>\n",
       "      <th>2</th>\n",
       "      <td>2019-08-01</td>\n",
       "      <td>0</td>\n",
       "      <td>경기도</td>\n",
       "      <td>고양시 일산동구</td>\n",
       "      <td>백석동</td>\n",
       "      <td>28</td>\n",
       "      <td>목</td>\n",
       "      <td>평일</td>\n",
       "      <td>N</td>\n",
       "    </tr>\n",
       "    <tr>\n",
       "      <th>3</th>\n",
       "      <td>2019-08-01</td>\n",
       "      <td>0</td>\n",
       "      <td>경기도</td>\n",
       "      <td>고양시 일산동구</td>\n",
       "      <td>식사동</td>\n",
       "      <td>3</td>\n",
       "      <td>목</td>\n",
       "      <td>평일</td>\n",
       "      <td>N</td>\n",
       "    </tr>\n",
       "    <tr>\n",
       "      <th>4</th>\n",
       "      <td>2019-08-01</td>\n",
       "      <td>0</td>\n",
       "      <td>경기도</td>\n",
       "      <td>고양시 일산동구</td>\n",
       "      <td>장항동</td>\n",
       "      <td>4</td>\n",
       "      <td>목</td>\n",
       "      <td>평일</td>\n",
       "      <td>N</td>\n",
       "    </tr>\n",
       "    <tr>\n",
       "      <th>...</th>\n",
       "      <td>...</td>\n",
       "      <td>...</td>\n",
       "      <td>...</td>\n",
       "      <td>...</td>\n",
       "      <td>...</td>\n",
       "      <td>...</td>\n",
       "      <td>...</td>\n",
       "      <td>...</td>\n",
       "      <td>...</td>\n",
       "    </tr>\n",
       "    <tr>\n",
       "      <th>2382976</th>\n",
       "      <td>2021-08-31</td>\n",
       "      <td>23</td>\n",
       "      <td>충청남도</td>\n",
       "      <td>천안시 서북구</td>\n",
       "      <td>쌍용동</td>\n",
       "      <td>6</td>\n",
       "      <td>화</td>\n",
       "      <td>평일</td>\n",
       "      <td>N</td>\n",
       "    </tr>\n",
       "    <tr>\n",
       "      <th>2382977</th>\n",
       "      <td>2021-08-31</td>\n",
       "      <td>23</td>\n",
       "      <td>충청북도</td>\n",
       "      <td>제천시</td>\n",
       "      <td>신백동</td>\n",
       "      <td>6</td>\n",
       "      <td>화</td>\n",
       "      <td>평일</td>\n",
       "      <td>N</td>\n",
       "    </tr>\n",
       "    <tr>\n",
       "      <th>2382978</th>\n",
       "      <td>2021-08-31</td>\n",
       "      <td>23</td>\n",
       "      <td>충청북도</td>\n",
       "      <td>제천시</td>\n",
       "      <td>신월동</td>\n",
       "      <td>2</td>\n",
       "      <td>화</td>\n",
       "      <td>평일</td>\n",
       "      <td>N</td>\n",
       "    </tr>\n",
       "    <tr>\n",
       "      <th>2382979</th>\n",
       "      <td>2021-08-31</td>\n",
       "      <td>23</td>\n",
       "      <td>충청북도</td>\n",
       "      <td>제천시</td>\n",
       "      <td>천남동</td>\n",
       "      <td>1</td>\n",
       "      <td>화</td>\n",
       "      <td>평일</td>\n",
       "      <td>N</td>\n",
       "    </tr>\n",
       "    <tr>\n",
       "      <th>2382980</th>\n",
       "      <td>2021-08-31</td>\n",
       "      <td>23</td>\n",
       "      <td>충청북도</td>\n",
       "      <td>제천시</td>\n",
       "      <td>하소동</td>\n",
       "      <td>4</td>\n",
       "      <td>화</td>\n",
       "      <td>평일</td>\n",
       "      <td>N</td>\n",
       "    </tr>\n",
       "  </tbody>\n",
       "</table>\n",
       "<p>2382981 rows × 9 columns</p>\n",
       "</div>"
      ],
      "text/plain": [
       "                 날짜  시간대  광역시도       시군구  읍면동  배달건수 요일 day_name holiday\n",
       "0        2019-08-01    0   강원도       속초시   교동     1  목       평일       N\n",
       "1        2019-08-01    0   경기도  고양시 일산동구  마두동     4  목       평일       N\n",
       "2        2019-08-01    0   경기도  고양시 일산동구  백석동    28  목       평일       N\n",
       "3        2019-08-01    0   경기도  고양시 일산동구  식사동     3  목       평일       N\n",
       "4        2019-08-01    0   경기도  고양시 일산동구  장항동     4  목       평일       N\n",
       "...             ...  ...   ...       ...  ...   ... ..      ...     ...\n",
       "2382976  2021-08-31   23  충청남도   천안시 서북구  쌍용동     6  화       평일       N\n",
       "2382977  2021-08-31   23  충청북도       제천시  신백동     6  화       평일       N\n",
       "2382978  2021-08-31   23  충청북도       제천시  신월동     2  화       평일       N\n",
       "2382979  2021-08-31   23  충청북도       제천시  천남동     1  화       평일       N\n",
       "2382980  2021-08-31   23  충청북도       제천시  하소동     4  화       평일       N\n",
       "\n",
       "[2382981 rows x 9 columns]"
      ]
     },
     "execution_count": 2,
     "metadata": {},
     "output_type": "execute_result"
    }
   ],
   "source": [
    "df = pd.read_csv('/Users/seulalee/OneDrive/MyStudy/210816_엘리스AI트랙/TeamProject1/Team11_NaplessRabbit/project-template/rawdata/holiday/freq_with_holiday.csv', index_col=0)\n",
    "df"
   ]
  },
  {
   "cell_type": "markdown",
   "id": "5cacf853",
   "metadata": {},
   "source": [
    "### [1-1] 우리동네 배달보기 - 시간대별 \n",
    "선택한 지역에서 시간대별로 발생한 배달건수를 보여줌. 각 히스토그램의 높이는 해당 시간대에 한 시간동안 발생한 배달건수의 '평균'임\n",
    "\n",
    "- db테이블명 : freqavg_by_area1, freqavg_by_area2  \n",
    "\n",
    "\n",
    "- 세로축 최대값이 각각 32, 120. \n",
    "- 세로축 고정없이"
   ]
  },
  {
   "cell_type": "code",
   "execution_count": 3,
   "id": "bb34088d",
   "metadata": {},
   "outputs": [
    {
     "data": {
      "text/plain": [
       "<BarContainer object of 16 artists>"
      ]
     },
     "execution_count": 3,
     "metadata": {},
     "output_type": "execute_result"
    },
    {
     "data": {
      "image/png": "[encoded data removed]",
      "text/plain": [
       "<Figure size 864x288 with 1 Axes>"
      ]
     },
     "metadata": {
      "needs_background": "light"
     },
     "output_type": "display_data"
    }
   ],
   "source": [
    "freq_by_time = df[(df['광역시도']=='서울특별시')&(df['시군구']=='용산구')].groupby('시간대').mean().reset_index()\n",
    "fig, ax = plt.subplots(figsize=(12, 4))\n",
    "ax.bar(freq_by_time['시간대'], freq_by_time['배달건수'])"
   ]
  },
  {
   "cell_type": "code",
   "execution_count": 15,
   "id": "233c2d0b",
   "metadata": {},
   "outputs": [
    {
     "data": {
      "text/plain": [
       "시간대     23.000000\n",
       "배달건수    32.068826\n",
       "dtype: float64"
      ]
     },
     "execution_count": 15,
     "metadata": {},
     "output_type": "execute_result"
    }
   ],
   "source": [
    "# 모든 읍면동에서 1시간동안 발생하는 배달 건수의 평균\n",
    "freq_by_time1 = df[(df['광역시도']=='부산광역시')].groupby('시간대').mean().reset_index()\n",
    "freq_by_time1.max()"
   ]
  },
  {
   "cell_type": "code",
   "execution_count": 17,
   "id": "78e4d947",
   "metadata": {},
   "outputs": [
    {
     "data": {
      "text/plain": [
       "시군구       화성시\n",
       "시간대        23\n",
       "배달건수    120.0\n",
       "dtype: object"
      ]
     },
     "execution_count": 17,
     "metadata": {},
     "output_type": "execute_result"
    }
   ],
   "source": [
    "# 모든 부산광역시의 해당 시군구 안에서 1시간동안 발생하는 배달 건수의 평균\n",
    "freq_by_time2 = df[(df['광역시도']=='경기도')].groupby(['시군구','시간대']).mean().reset_index()\n",
    "freq_by_time2.max()"
   ]
  },
  {
   "cell_type": "markdown",
   "id": "5887cf54",
   "metadata": {},
   "source": [
    "### [1-2] 우리동네 배달보기  - 요일별\n",
    "선택한 지역에서 요일별로 발생한 배달건수를 보여줌. 각 히스토그램의 높이는 해당 요일 하루동안 발생한 배달건수의 '평균'임\n",
    "\n",
    "여기서는 기준이 한 시간당 배달건수가 아닌, 하루 단위의 배달건수를 보여줌.\n",
    "(요일간의 비교가 목적이기 때문에 시간당 건수보다 일일당 건수가 더욱 적절함)\n",
    "  \n",
    "- 테이블명 : freqavg_by_day1, freqavg_by_day2\n",
    "\n",
    "\n",
    "\n",
    "- 정렬은 요일 순서 맞춰서(월-화-...-토-일) 해주시면 좋겠어요 못하겠음ㅠ \n",
    "- 가능하다면, 토/일 이틀은 빨간색으로 표시해주면 좋겠습니다.\n"
   ]
  },
  {
   "cell_type": "code",
   "execution_count": 50,
   "id": "40abe75a",
   "metadata": {},
   "outputs": [
    {
     "data": {
      "text/html": [
       "<div>\n",
       "<style scoped>\n",
       "    .dataframe tbody tr th:only-of-type {\n",
       "        vertical-align: middle;\n",
       "    }\n",
       "\n",
       "    .dataframe tbody tr th {\n",
       "        vertical-align: top;\n",
       "    }\n",
       "\n",
       "    .dataframe thead th {\n",
       "        text-align: right;\n",
       "    }\n",
       "</style>\n",
       "<table border=\"1\" class=\"dataframe\">\n",
       "  <thead>\n",
       "    <tr style=\"text-align: right;\">\n",
       "      <th></th>\n",
       "      <th>요일</th>\n",
       "      <th>시간대</th>\n",
       "      <th>배달건수</th>\n",
       "    </tr>\n",
       "  </thead>\n",
       "  <tbody>\n",
       "    <tr>\n",
       "      <th>0</th>\n",
       "      <td>금</td>\n",
       "      <td>207.472222</td>\n",
       "      <td>51.944444</td>\n",
       "    </tr>\n",
       "    <tr>\n",
       "      <th>1</th>\n",
       "      <td>목</td>\n",
       "      <td>240.129032</td>\n",
       "      <td>56.645161</td>\n",
       "    </tr>\n",
       "    <tr>\n",
       "      <th>2</th>\n",
       "      <td>수</td>\n",
       "      <td>229.823529</td>\n",
       "      <td>59.705882</td>\n",
       "    </tr>\n",
       "    <tr>\n",
       "      <th>3</th>\n",
       "      <td>월</td>\n",
       "      <td>168.500000</td>\n",
       "      <td>16.852941</td>\n",
       "    </tr>\n",
       "    <tr>\n",
       "      <th>4</th>\n",
       "      <td>일</td>\n",
       "      <td>193.589744</td>\n",
       "      <td>63.358974</td>\n",
       "    </tr>\n",
       "    <tr>\n",
       "      <th>5</th>\n",
       "      <td>토</td>\n",
       "      <td>192.650000</td>\n",
       "      <td>55.825000</td>\n",
       "    </tr>\n",
       "    <tr>\n",
       "      <th>6</th>\n",
       "      <td>화</td>\n",
       "      <td>208.722222</td>\n",
       "      <td>54.916667</td>\n",
       "    </tr>\n",
       "  </tbody>\n",
       "</table>\n",
       "</div>"
      ],
      "text/plain": [
       "  요일         시간대       배달건수\n",
       "0  금  207.472222  51.944444\n",
       "1  목  240.129032  56.645161\n",
       "2  수  229.823529  59.705882\n",
       "3  월  168.500000  16.852941\n",
       "4  일  193.589744  63.358974\n",
       "5  토  192.650000  55.825000\n",
       "6  화  208.722222  54.916667"
      ]
     },
     "execution_count": 50,
     "metadata": {},
     "output_type": "execute_result"
    },
    {
     "data": {
      "image/png": "[encoded data removed]",
      "text/plain": [
       "<Figure size 864x288 with 1 Axes>"
      ]
     },
     "metadata": {
      "needs_background": "light"
     },
     "output_type": "display_data"
    }
   ],
   "source": [
    "### [ 1-2-1 ] 광역시, 시군구까지 선택한 경우\n",
    "\n",
    "# 우리 데이터의'배달건수'에 있는 숫자가 해당 지역(읍면동)에서 해당 한 시간 동안 발생한 배달건수\n",
    "# 우리가 여기서 보여주고자 하는 자료를 만들기 위해서는, 해당 지역(읍면동)에서 하루동안 발생한 배달건수로 바꿔야함. \n",
    "\n",
    "# 테이블의 형태를 우리가 알고자 하는 '배달건수'가 가르키는 내용이 한 시간동안 발생한 배달이 아니라, \n",
    "# 그 같은 날짜에 발생한 배달을 다 합쳐서 하루에 발생한 배달로 바꾸는 거\n",
    "\n",
    "freq_by_day = df[df['시군구']=='용산구'].groupby(['날짜', '요일']).sum().reset_index()\n",
    "freq_by_whichday = freq_by_day.groupby('요일').mean().reset_index()\n",
    "freq_by_whichday\n",
    "fig, ax = plt.subplots(figsize=(12, 4))\n",
    "ax.bar(freq_by_whichday['요일'], freq_by_whichday['배달건수'])\n",
    "ax.set_title('용산구 전체의 하루평균 배달건수 : 요일별')\n",
    "freq_by_whichday\n"
   ]
  },
  {
   "cell_type": "code",
   "execution_count": 53,
   "id": "129e27e9",
   "metadata": {},
   "outputs": [
    {
     "data": {
      "text/html": [
       "<div>\n",
       "<style scoped>\n",
       "    .dataframe tbody tr th:only-of-type {\n",
       "        vertical-align: middle;\n",
       "    }\n",
       "\n",
       "    .dataframe tbody tr th {\n",
       "        vertical-align: top;\n",
       "    }\n",
       "\n",
       "    .dataframe thead th {\n",
       "        text-align: right;\n",
       "    }\n",
       "</style>\n",
       "<table border=\"1\" class=\"dataframe\">\n",
       "  <thead>\n",
       "    <tr style=\"text-align: right;\">\n",
       "      <th></th>\n",
       "      <th>요일</th>\n",
       "      <th>시간대</th>\n",
       "      <th>배달건수</th>\n",
       "    </tr>\n",
       "  </thead>\n",
       "  <tbody>\n",
       "    <tr>\n",
       "      <th>0</th>\n",
       "      <td>금</td>\n",
       "      <td>1392.743119</td>\n",
       "      <td>1651.899083</td>\n",
       "    </tr>\n",
       "    <tr>\n",
       "      <th>1</th>\n",
       "      <td>목</td>\n",
       "      <td>1341.431193</td>\n",
       "      <td>1421.348624</td>\n",
       "    </tr>\n",
       "    <tr>\n",
       "      <th>2</th>\n",
       "      <td>수</td>\n",
       "      <td>1352.971698</td>\n",
       "      <td>1405.264151</td>\n",
       "    </tr>\n",
       "    <tr>\n",
       "      <th>3</th>\n",
       "      <td>월</td>\n",
       "      <td>1345.869159</td>\n",
       "      <td>1293.626168</td>\n",
       "    </tr>\n",
       "    <tr>\n",
       "      <th>4</th>\n",
       "      <td>일</td>\n",
       "      <td>1385.657407</td>\n",
       "      <td>1920.666667</td>\n",
       "    </tr>\n",
       "    <tr>\n",
       "      <th>5</th>\n",
       "      <td>토</td>\n",
       "      <td>1419.537037</td>\n",
       "      <td>1928.777778</td>\n",
       "    </tr>\n",
       "    <tr>\n",
       "      <th>6</th>\n",
       "      <td>화</td>\n",
       "      <td>1337.700935</td>\n",
       "      <td>1357.261682</td>\n",
       "    </tr>\n",
       "  </tbody>\n",
       "</table>\n",
       "</div>"
      ],
      "text/plain": [
       "  요일          시간대         배달건수\n",
       "0  금  1392.743119  1651.899083\n",
       "1  목  1341.431193  1421.348624\n",
       "2  수  1352.971698  1405.264151\n",
       "3  월  1345.869159  1293.626168\n",
       "4  일  1385.657407  1920.666667\n",
       "5  토  1419.537037  1928.777778\n",
       "6  화  1337.700935  1357.261682"
      ]
     },
     "execution_count": 53,
     "metadata": {},
     "output_type": "execute_result"
    },
    {
     "data": {
      "image/png": "[encoded data removed]",
      "text/plain": [
       "<Figure size 864x288 with 1 Axes>"
      ]
     },
     "metadata": {
      "needs_background": "light"
     },
     "output_type": "display_data"
    }
   ],
   "source": [
    "freq_by_day = df[df['시군구']=='구로구'].groupby(['날짜', '요일']).sum().reset_index()\n",
    "freq_by_whichday = freq_by_day.groupby('요일').mean().reset_index()\n",
    "freq_by_whichday\n",
    "fig, ax = plt.subplots(figsize=(12, 4))\n",
    "ax.bar(freq_by_whichday['요일'], freq_by_whichday['배달건수'])\n",
    "ax.set_title('구로구 전체의 하루평균 배달건수 : 요일별')\n",
    "freq_by_whichday"
   ]
  },
  {
   "cell_type": "code",
   "execution_count": 52,
   "id": "f2526e98",
   "metadata": {},
   "outputs": [
    {
     "data": {
      "text/plain": [
       "Text(0.5, 1.0, '서울지역 읍면동의 요일별 배달건수')"
      ]
     },
     "execution_count": 52,
     "metadata": {},
     "output_type": "execute_result"
    },
    {
     "data": {
      "image/png": "[encoded data removed]",
      "text/plain": [
       "<Figure size 864x288 with 1 Axes>"
      ]
     },
     "metadata": {
      "needs_background": "light"
     },
     "output_type": "display_data"
    }
   ],
   "source": [
    "# ### [ 1-2-2 ] freqavg_by_day1: 광역시까지만 선택하고 시군구는 '전체'인 경우 \n",
    "\n",
    "freq_by_day = df[df['광역시도']=='서울특별시'].groupby(['날짜', '요일']).sum().reset_index()\n",
    "freq_by_whichday = freq_by_day.groupby('요일').mean().reset_index()\n",
    "freq_by_whichday\n",
    "fig, ax = plt.subplots(figsize=(12, 4))\n",
    "ax.bar(freq_by_day['요일'], freq_by_day['배달건수'])\n",
    "ax.set_title('서울지역 전체의 하루평균 배달건수 : 요일별')"
   ]
  },
  {
   "cell_type": "markdown",
   "id": "3a7874e5",
   "metadata": {},
   "source": [
    "### [1-3] 우리동네 배달보기  - 공휴일\n",
    "선택한 지역에서 각 공휴일 발생한 배달건수를 보여줌. 각 히스토그램의 높이는 2020년 해당 공휴일 하루동안 발생한 배달건수임.\n",
    "\n",
    "2019년, 2021년 데이터가 1년이 full로 있지 않은데, 연도별 fluctuation이 커서 1년치가 full로 있는 **2020년(각 연도별) 데이터만으로** 집계\n",
    "\n",
    "위와 마찬가지로, 특정 '공휴일'들을 비교하여 보여주고자 하기 때문에, 일일 건수로 보여줌\n",
    "\n",
    "- 연도를 선택할 수 있게해서 2019, 2020, 2021년을 선택하게\n",
    "- 가로축에 '평일' bar만 색상을 다르게 "
   ]
  },
  {
   "cell_type": "code",
   "execution_count": 88,
   "id": "c918b9a8",
   "metadata": {},
   "outputs": [
    {
     "data": {
      "text/plain": [
       "Text(0.5, 1.0, '서울특별시 2020년 공휴일 하루 배달건수')"
      ]
     },
     "execution_count": 88,
     "metadata": {},
     "output_type": "execute_result"
    },
    {
     "data": {
      "image/png": "[encoded data removed]",
      "text/plain": [
       "<Figure size 864x288 with 1 Axes>"
      ]
     },
     "metadata": {
      "needs_background": "light"
     },
     "output_type": "display_data"
    }
   ],
   "source": [
    "# ### [ 1-3-1 ] freqavg_by_holiday1: 광역시까지만 선택하고 시군구는 '전체'인 경우 \n",
    "\n",
    "freq_by_holiday = df[df['날짜'].str.contains('2020')]\n",
    "freq_by_holiday = freq_by_holiday[freq_by_holiday['광역시도']=='서울특별시'].groupby(['날짜','day_name']).sum().reset_index()\n",
    "freq_by_holiday = freq_by_holiday.groupby('day_name').mean().reset_index()\n",
    "fig, ax = plt.subplots(figsize=(12, 4))\n",
    "ax.bar(freq_by_holiday['day_name'], freq_by_holiday['배달건수'])\n",
    "ax.set_title('서울특별시 2020년 공휴일 하루 배달건수')"
   ]
  },
  {
   "cell_type": "code",
   "execution_count": 89,
   "id": "4f77dc6e",
   "metadata": {},
   "outputs": [
    {
     "data": {
      "text/plain": [
       "Text(0.5, 1.0, '서초구 2020년 공휴일 하루 배달건수')"
      ]
     },
     "execution_count": 89,
     "metadata": {},
     "output_type": "execute_result"
    },
    {
     "data": {
      "image/png": "[encoded data removed]",
      "text/plain": [
       "<Figure size 864x288 with 1 Axes>"
      ]
     },
     "metadata": {
      "needs_background": "light"
     },
     "output_type": "display_data"
    }
   ],
   "source": [
    "# ### [ 1-3-2 ] freqavg_by_holiday2: 광역시까지만 선택하고 시군구는 '전체'인 경우 \n",
    "\n",
    "freq_by_holiday = df[df['날짜'].str.contains('2020')]\n",
    "freq_by_holiday = freq_by_holiday[freq_by_holiday['시군구']=='서초구'].groupby(['날짜','day_name']).sum().reset_index()\n",
    "freq_by_holiday = freq_by_holiday.groupby('day_name').mean().reset_index()\n",
    "fig, ax = plt.subplots(figsize=(12, 4))\n",
    "ax.bar(freq_by_holiday['day_name'], freq_by_holiday['배달건수'])\n",
    "ax.set_title('서초구 2020년 공휴일 하루 배달건수')"
   ]
  },
  {
   "cell_type": "code",
   "execution_count": null,
   "id": "2db3b3f0",
   "metadata": {},
   "outputs": [],
   "source": []
  },
  {
   "cell_type": "code",
   "execution_count": null,
   "id": "e40f4347",
   "metadata": {},
   "outputs": [],
   "source": []
  },
  {
   "cell_type": "code",
   "execution_count": null,
   "id": "e23c6bdb",
   "metadata": {},
   "outputs": [],
   "source": []
  },
  {
   "cell_type": "code",
   "execution_count": null,
   "id": "7fb22465",
   "metadata": {},
   "outputs": [],
   "source": []
  },
  {
   "cell_type": "code",
   "execution_count": null,
   "id": "865f2cae",
   "metadata": {},
   "outputs": [],
   "source": [
    "\n"
   ]
  }
 ],
 "metadata": {
  "kernelspec": {
   "display_name": "Python 3.8.8 64-bit ('base': conda)",
   "language": "python",
   "name": "python388jvsc74a57bd030f5928aed3b8b0dce2d12ea3d5e897cedae7f244e0b1c57b84a978cd9054218"
  },
  "language_info": {
   "codemirror_mode": {
    "name": "ipython",
    "version": 3
   },
   "file_extension": ".py",
   "mimetype": "text/x-python",
   "name": "python",
   "nbconvert_exporter": "python",
   "pygments_lexer": "ipython3",
   "version": "3.8.8"
  }
 },
 "nbformat": 4,
 "nbformat_minor": 5
}
