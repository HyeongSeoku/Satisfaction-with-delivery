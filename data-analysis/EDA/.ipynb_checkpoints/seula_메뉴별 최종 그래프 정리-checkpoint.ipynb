{
 "cells": [
  {
   "cell_type": "markdown",
   "id": "3f2a7280",
   "metadata": {},
   "source": [
    "# 목차 \n",
    "## [1] 우리동네 배달보기\n",
    "    [1-1] 시간대별 배달\n",
    "    [1-2] 요일별 배달\n",
    "    [1-3] 공휴일 배달\n",
    "    [1-4] 코로나와 배달\n",
    "\n",
    "## [2] 동네끼리 비교하기\n",
    "    [2-1] 시간대별 배달\n",
    "    [2-2] 요일별 배달\n",
    "    [2-3] 공휴일 배달\n",
    "    [2-4] 코로나와 배달\n",
    "\n",
    "## [3] 배달특성 살펴보기 (예정)\n",
    "    [3-1] 비가 오나 눈이 오나 \n",
    "    [3-2] 아침/점심/저녁/야식 시간대별로 배달주문 가장 많은 지역 -> 지도로\n",
    "    [3-3] \n",
    "    \n",
    "## [4] 우리동네 배달 예측하기 (예정)\n",
    "\n",
    "  \n",
    "\n",
    "  \n",
    "\n",
    "\n",
    "       \n",
    "       \n",
    "**지역을 선택하는 차트는 아래와 같은 지역조건으로 그래프가 일치하면 백에서 맞게 구현된 것임!**\n",
    "\n"
   ]
  },
  {
   "cell_type": "code",
   "execution_count": 2,
   "id": "abb4a619",
   "metadata": {
    "ExecuteTime": {
     "end_time": "2022-01-07T04:28:21.060391Z",
     "start_time": "2022-01-07T04:28:20.267565Z"
    }
   },
   "outputs": [],
   "source": [
    "import numpy as np\n",
    "import pandas as pd\n",
    "import matplotlib.pyplot as plt\n",
    "import seaborn as sns\n",
    "plt.rc('font', family='AppleGothic')"
   ]
  },
  {
   "cell_type": "code",
   "execution_count": 2,
   "id": "bc6770d8",
   "metadata": {
    "ExecuteTime": {
     "end_time": "2022-01-07T02:44:31.896906Z",
     "start_time": "2022-01-07T02:44:29.858391Z"
    }
   },
   "outputs": [
    {
     "name": "stderr",
     "output_type": "stream",
     "text": [
      "/Users/seulalee/opt/anaconda3/lib/python3.8/site-packages/numpy/lib/arraysetops.py:583: FutureWarning: elementwise comparison failed; returning scalar instead, but in the future will perform elementwise comparison\n",
      "  mask |= (ar1 == a)\n"
     ]
    },
    {
     "data": {
      "text/html": [
       "<div>\n",
       "<style scoped>\n",
       "    .dataframe tbody tr th:only-of-type {\n",
       "        vertical-align: middle;\n",
       "    }\n",
       "\n",
       "    .dataframe tbody tr th {\n",
       "        vertical-align: top;\n",
       "    }\n",
       "\n",
       "    .dataframe thead th {\n",
       "        text-align: right;\n",
       "    }\n",
       "</style>\n",
       "<table border=\"1\" class=\"dataframe\">\n",
       "  <thead>\n",
       "    <tr style=\"text-align: right;\">\n",
       "      <th></th>\n",
       "      <th>날짜</th>\n",
       "      <th>시간대</th>\n",
       "      <th>광역시도</th>\n",
       "      <th>시군구</th>\n",
       "      <th>읍면동</th>\n",
       "      <th>배달건수</th>\n",
       "      <th>요일</th>\n",
       "      <th>day_name</th>\n",
       "      <th>holiday</th>\n",
       "    </tr>\n",
       "  </thead>\n",
       "  <tbody>\n",
       "    <tr>\n",
       "      <th>0</th>\n",
       "      <td>2019-08-01</td>\n",
       "      <td>0</td>\n",
       "      <td>강원도</td>\n",
       "      <td>속초시</td>\n",
       "      <td>교동</td>\n",
       "      <td>1</td>\n",
       "      <td>목</td>\n",
       "      <td>평일</td>\n",
       "      <td>N</td>\n",
       "    </tr>\n",
       "    <tr>\n",
       "      <th>1</th>\n",
       "      <td>2019-08-01</td>\n",
       "      <td>0</td>\n",
       "      <td>경기도</td>\n",
       "      <td>고양시 일산동구</td>\n",
       "      <td>마두동</td>\n",
       "      <td>4</td>\n",
       "      <td>목</td>\n",
       "      <td>평일</td>\n",
       "      <td>N</td>\n",
       "    </tr>\n",
       "    <tr>\n",
       "      <th>2</th>\n",
       "      <td>2019-08-01</td>\n",
       "      <td>0</td>\n",
       "      <td>경기도</td>\n",
       "      <td>고양시 일산동구</td>\n",
       "      <td>백석동</td>\n",
       "      <td>28</td>\n",
       "      <td>목</td>\n",
       "      <td>평일</td>\n",
       "      <td>N</td>\n",
       "    </tr>\n",
       "    <tr>\n",
       "      <th>3</th>\n",
       "      <td>2019-08-01</td>\n",
       "      <td>0</td>\n",
       "      <td>경기도</td>\n",
       "      <td>고양시 일산동구</td>\n",
       "      <td>식사동</td>\n",
       "      <td>3</td>\n",
       "      <td>목</td>\n",
       "      <td>평일</td>\n",
       "      <td>N</td>\n",
       "    </tr>\n",
       "    <tr>\n",
       "      <th>4</th>\n",
       "      <td>2019-08-01</td>\n",
       "      <td>0</td>\n",
       "      <td>경기도</td>\n",
       "      <td>고양시 일산동구</td>\n",
       "      <td>장항동</td>\n",
       "      <td>4</td>\n",
       "      <td>목</td>\n",
       "      <td>평일</td>\n",
       "      <td>N</td>\n",
       "    </tr>\n",
       "    <tr>\n",
       "      <th>...</th>\n",
       "      <td>...</td>\n",
       "      <td>...</td>\n",
       "      <td>...</td>\n",
       "      <td>...</td>\n",
       "      <td>...</td>\n",
       "      <td>...</td>\n",
       "      <td>...</td>\n",
       "      <td>...</td>\n",
       "      <td>...</td>\n",
       "    </tr>\n",
       "    <tr>\n",
       "      <th>2382976</th>\n",
       "      <td>2021-08-31</td>\n",
       "      <td>23</td>\n",
       "      <td>충청남도</td>\n",
       "      <td>천안시 서북구</td>\n",
       "      <td>쌍용동</td>\n",
       "      <td>6</td>\n",
       "      <td>화</td>\n",
       "      <td>평일</td>\n",
       "      <td>N</td>\n",
       "    </tr>\n",
       "    <tr>\n",
       "      <th>2382977</th>\n",
       "      <td>2021-08-31</td>\n",
       "      <td>23</td>\n",
       "      <td>충청북도</td>\n",
       "      <td>제천시</td>\n",
       "      <td>신백동</td>\n",
       "      <td>6</td>\n",
       "      <td>화</td>\n",
       "      <td>평일</td>\n",
       "      <td>N</td>\n",
       "    </tr>\n",
       "    <tr>\n",
       "      <th>2382978</th>\n",
       "      <td>2021-08-31</td>\n",
       "      <td>23</td>\n",
       "      <td>충청북도</td>\n",
       "      <td>제천시</td>\n",
       "      <td>신월동</td>\n",
       "      <td>2</td>\n",
       "      <td>화</td>\n",
       "      <td>평일</td>\n",
       "      <td>N</td>\n",
       "    </tr>\n",
       "    <tr>\n",
       "      <th>2382979</th>\n",
       "      <td>2021-08-31</td>\n",
       "      <td>23</td>\n",
       "      <td>충청북도</td>\n",
       "      <td>제천시</td>\n",
       "      <td>천남동</td>\n",
       "      <td>1</td>\n",
       "      <td>화</td>\n",
       "      <td>평일</td>\n",
       "      <td>N</td>\n",
       "    </tr>\n",
       "    <tr>\n",
       "      <th>2382980</th>\n",
       "      <td>2021-08-31</td>\n",
       "      <td>23</td>\n",
       "      <td>충청북도</td>\n",
       "      <td>제천시</td>\n",
       "      <td>하소동</td>\n",
       "      <td>4</td>\n",
       "      <td>화</td>\n",
       "      <td>평일</td>\n",
       "      <td>N</td>\n",
       "    </tr>\n",
       "  </tbody>\n",
       "</table>\n",
       "<p>2382981 rows × 9 columns</p>\n",
       "</div>"
      ],
      "text/plain": [
       "                 날짜  시간대  광역시도       시군구  읍면동  배달건수 요일 day_name holiday\n",
       "0        2019-08-01    0   강원도       속초시   교동     1  목       평일       N\n",
       "1        2019-08-01    0   경기도  고양시 일산동구  마두동     4  목       평일       N\n",
       "2        2019-08-01    0   경기도  고양시 일산동구  백석동    28  목       평일       N\n",
       "3        2019-08-01    0   경기도  고양시 일산동구  식사동     3  목       평일       N\n",
       "4        2019-08-01    0   경기도  고양시 일산동구  장항동     4  목       평일       N\n",
       "...             ...  ...   ...       ...  ...   ... ..      ...     ...\n",
       "2382976  2021-08-31   23  충청남도   천안시 서북구  쌍용동     6  화       평일       N\n",
       "2382977  2021-08-31   23  충청북도       제천시  신백동     6  화       평일       N\n",
       "2382978  2021-08-31   23  충청북도       제천시  신월동     2  화       평일       N\n",
       "2382979  2021-08-31   23  충청북도       제천시  천남동     1  화       평일       N\n",
       "2382980  2021-08-31   23  충청북도       제천시  하소동     4  화       평일       N\n",
       "\n",
       "[2382981 rows x 9 columns]"
      ]
     },
     "execution_count": 2,
     "metadata": {},
     "output_type": "execute_result"
    }
   ],
   "source": [
    "df = pd.read_csv('/Users/seulalee/OneDrive/MyStudy/210816_엘리스AI트랙/TeamProject1/Team11_NaplessRabbit/project-template/rawdata/holiday/freq_with_holiday.csv', index_col=0)\n",
    "df"
   ]
  },
  {
   "cell_type": "markdown",
   "id": "5cacf853",
   "metadata": {},
   "source": [
    "### [1-1] 우리동네 배달보기 - 시간대별 \n",
    "선택한 지역에서 시간대별로 발생한 배달건수를 보여줌. 각 히스토그램의 높이는 해당 시간대에 한 시간동안 발생한 배달건수의 '평균'임\n",
    "\n",
    "- db테이블명 : freqavg_by_area1, freqavg_by_area2  \n",
    "\n",
    "\n",
    "- 세로축 최대값이 각각 32, 120. \n",
    "- 세로축 고정없이"
   ]
  },
  {
   "cell_type": "code",
   "execution_count": 3,
   "id": "bb34088d",
   "metadata": {
    "ExecuteTime": {
     "end_time": "2022-01-07T02:44:34.821310Z",
     "start_time": "2022-01-07T02:44:34.478319Z"
    }
   },
   "outputs": [
    {
     "data": {
      "text/plain": [
       "<BarContainer object of 16 artists>"
      ]
     },
     "execution_count": 3,
     "metadata": {},
     "output_type": "execute_result"
    },
    {
     "data": {
      "image/png": "[encoded data removed]",
      "text/plain": [
       "<Figure size 864x288 with 1 Axes>"
      ]
     },
     "metadata": {
      "needs_background": "light"
     },
     "output_type": "display_data"
    }
   ],
   "source": [
    "freq_by_time = df[(df['광역시도']=='서울특별시')&(df['시군구']=='용산구')].groupby('시간대').mean().reset_index()\n",
    "fig, ax = plt.subplots(figsize=(12, 4))\n",
    "ax.bar(freq_by_time['시간대'], freq_by_time['배달건수'])"
   ]
  },
  {
   "cell_type": "code",
   "execution_count": 4,
   "id": "233c2d0b",
   "metadata": {
    "ExecuteTime": {
     "end_time": "2022-01-07T02:44:36.429546Z",
     "start_time": "2022-01-07T02:44:36.263270Z"
    }
   },
   "outputs": [
    {
     "data": {
      "text/plain": [
       "시간대     23.000000\n",
       "배달건수    32.068826\n",
       "dtype: float64"
      ]
     },
     "execution_count": 4,
     "metadata": {},
     "output_type": "execute_result"
    }
   ],
   "source": [
    "# 모든 읍면동에서 1시간동안 발생하는 배달 건수의 평균\n",
    "freq_by_time1 = df[(df['광역시도']=='부산광역시')].groupby('시간대').mean().reset_index()\n",
    "freq_by_time1.max()"
   ]
  },
  {
   "cell_type": "code",
   "execution_count": 5,
   "id": "78e4d947",
   "metadata": {
    "ExecuteTime": {
     "end_time": "2022-01-07T02:44:37.490101Z",
     "start_time": "2022-01-07T02:44:37.131514Z"
    }
   },
   "outputs": [
    {
     "data": {
      "text/plain": [
       "시군구       화성시\n",
       "시간대        23\n",
       "배달건수    120.0\n",
       "dtype: object"
      ]
     },
     "execution_count": 5,
     "metadata": {},
     "output_type": "execute_result"
    }
   ],
   "source": [
    "# 모든 부산광역시의 해당 시군구 안에서 1시간동안 발생하는 배달 건수의 평균\n",
    "freq_by_time2 = df[(df['광역시도']=='경기도')].groupby(['시군구','시간대']).mean().reset_index()\n",
    "freq_by_time2.max()"
   ]
  },
  {
   "cell_type": "markdown",
   "id": "5887cf54",
   "metadata": {},
   "source": [
    "### [1-2] 우리동네 배달보기  - 요일별\n",
    "선택한 지역에서 요일별로 발생한 배달건수를 보여줌. 각 히스토그램의 높이는 해당 요일 하루동안 발생한 배달건수의 '평균'임\n",
    "\n",
    "여기서는 기준이 한 시간당 배달건수가 아닌, 하루 단위의 배달건수를 보여줌.\n",
    "(요일간의 비교가 목적이기 때문에 시간당 건수보다 일일당 건수가 더욱 적절함)\n",
    "  \n",
    "- 테이블명 : freqavg_by_day1, freqavg_by_day2\n",
    "\n",
    "\n",
    "\n",
    "- 정렬은 요일 순서 맞춰서(월-화-...-토-일) 해주시면 좋겠어요 못하겠음ㅠ \n",
    "- 가능하다면, 토/일 이틀은 빨간색으로 표시해주면 좋겠습니다.\n"
   ]
  },
  {
   "cell_type": "code",
   "execution_count": 6,
   "id": "40abe75a",
   "metadata": {
    "ExecuteTime": {
     "end_time": "2022-01-07T02:44:39.586947Z",
     "start_time": "2022-01-07T02:44:39.349144Z"
    }
   },
   "outputs": [
    {
     "data": {
      "text/html": [
       "<div>\n",
       "<style scoped>\n",
       "    .dataframe tbody tr th:only-of-type {\n",
       "        vertical-align: middle;\n",
       "    }\n",
       "\n",
       "    .dataframe tbody tr th {\n",
       "        vertical-align: top;\n",
       "    }\n",
       "\n",
       "    .dataframe thead th {\n",
       "        text-align: right;\n",
       "    }\n",
       "</style>\n",
       "<table border=\"1\" class=\"dataframe\">\n",
       "  <thead>\n",
       "    <tr style=\"text-align: right;\">\n",
       "      <th></th>\n",
       "      <th>요일</th>\n",
       "      <th>시간대</th>\n",
       "      <th>배달건수</th>\n",
       "    </tr>\n",
       "  </thead>\n",
       "  <tbody>\n",
       "    <tr>\n",
       "      <th>0</th>\n",
       "      <td>금</td>\n",
       "      <td>207.472222</td>\n",
       "      <td>51.944444</td>\n",
       "    </tr>\n",
       "    <tr>\n",
       "      <th>1</th>\n",
       "      <td>목</td>\n",
       "      <td>240.129032</td>\n",
       "      <td>56.645161</td>\n",
       "    </tr>\n",
       "    <tr>\n",
       "      <th>2</th>\n",
       "      <td>수</td>\n",
       "      <td>229.823529</td>\n",
       "      <td>59.705882</td>\n",
       "    </tr>\n",
       "    <tr>\n",
       "      <th>3</th>\n",
       "      <td>월</td>\n",
       "      <td>168.500000</td>\n",
       "      <td>16.852941</td>\n",
       "    </tr>\n",
       "    <tr>\n",
       "      <th>4</th>\n",
       "      <td>일</td>\n",
       "      <td>193.589744</td>\n",
       "      <td>63.358974</td>\n",
       "    </tr>\n",
       "    <tr>\n",
       "      <th>5</th>\n",
       "      <td>토</td>\n",
       "      <td>192.650000</td>\n",
       "      <td>55.825000</td>\n",
       "    </tr>\n",
       "    <tr>\n",
       "      <th>6</th>\n",
       "      <td>화</td>\n",
       "      <td>208.722222</td>\n",
       "      <td>54.916667</td>\n",
       "    </tr>\n",
       "  </tbody>\n",
       "</table>\n",
       "</div>"
      ],
      "text/plain": [
       "  요일         시간대       배달건수\n",
       "0  금  207.472222  51.944444\n",
       "1  목  240.129032  56.645161\n",
       "2  수  229.823529  59.705882\n",
       "3  월  168.500000  16.852941\n",
       "4  일  193.589744  63.358974\n",
       "5  토  192.650000  55.825000\n",
       "6  화  208.722222  54.916667"
      ]
     },
     "execution_count": 6,
     "metadata": {},
     "output_type": "execute_result"
    },
    {
     "data": {
      "image/png": "[encoded data removed]",
      "text/plain": [
       "<Figure size 864x288 with 1 Axes>"
      ]
     },
     "metadata": {
      "needs_background": "light"
     },
     "output_type": "display_data"
    }
   ],
   "source": [
    "### [ 1-2-1 ] 광역시, 시군구까지 선택한 경우\n",
    "\n",
    "# 우리 데이터의'배달건수'에 있는 숫자가 해당 지역(읍면동)에서 해당 한 시간 동안 발생한 배달건수\n",
    "# 우리가 여기서 보여주고자 하는 자료를 만들기 위해서는, 해당 지역(읍면동)에서 하루동안 발생한 배달건수로 바꿔야함. \n",
    "\n",
    "# 테이블의 형태를 우리가 알고자 하는 '배달건수'가 가르키는 내용이 한 시간동안 발생한 배달이 아니라, \n",
    "# 그 같은 날짜에 발생한 배달을 다 합쳐서 하루에 발생한 배달로 바꾸는 거\n",
    "\n",
    "freq_by_day = df[df['시군구']=='용산구'].groupby(['날짜', '요일']).sum().reset_index()\n",
    "freq_by_whichday = freq_by_day.groupby('요일').mean().reset_index()\n",
    "freq_by_whichday\n",
    "fig, ax = plt.subplots(figsize=(12, 4))\n",
    "ax.bar(freq_by_whichday['요일'], freq_by_whichday['배달건수'])\n",
    "ax.set_title('용산구 전체의 하루평균 배달건수 : 요일별')\n",
    "freq_by_whichday\n"
   ]
  },
  {
   "cell_type": "code",
   "execution_count": 7,
   "id": "129e27e9",
   "metadata": {
    "ExecuteTime": {
     "end_time": "2022-01-07T02:44:40.273806Z",
     "start_time": "2022-01-07T02:44:40.031324Z"
    }
   },
   "outputs": [
    {
     "data": {
      "text/html": [
       "<div>\n",
       "<style scoped>\n",
       "    .dataframe tbody tr th:only-of-type {\n",
       "        vertical-align: middle;\n",
       "    }\n",
       "\n",
       "    .dataframe tbody tr th {\n",
       "        vertical-align: top;\n",
       "    }\n",
       "\n",
       "    .dataframe thead th {\n",
       "        text-align: right;\n",
       "    }\n",
       "</style>\n",
       "<table border=\"1\" class=\"dataframe\">\n",
       "  <thead>\n",
       "    <tr style=\"text-align: right;\">\n",
       "      <th></th>\n",
       "      <th>요일</th>\n",
       "      <th>시간대</th>\n",
       "      <th>배달건수</th>\n",
       "    </tr>\n",
       "  </thead>\n",
       "  <tbody>\n",
       "    <tr>\n",
       "      <th>0</th>\n",
       "      <td>금</td>\n",
       "      <td>1392.743119</td>\n",
       "      <td>1651.899083</td>\n",
       "    </tr>\n",
       "    <tr>\n",
       "      <th>1</th>\n",
       "      <td>목</td>\n",
       "      <td>1341.431193</td>\n",
       "      <td>1421.348624</td>\n",
       "    </tr>\n",
       "    <tr>\n",
       "      <th>2</th>\n",
       "      <td>수</td>\n",
       "      <td>1352.971698</td>\n",
       "      <td>1405.264151</td>\n",
       "    </tr>\n",
       "    <tr>\n",
       "      <th>3</th>\n",
       "      <td>월</td>\n",
       "      <td>1345.869159</td>\n",
       "      <td>1293.626168</td>\n",
       "    </tr>\n",
       "    <tr>\n",
       "      <th>4</th>\n",
       "      <td>일</td>\n",
       "      <td>1385.657407</td>\n",
       "      <td>1920.666667</td>\n",
       "    </tr>\n",
       "    <tr>\n",
       "      <th>5</th>\n",
       "      <td>토</td>\n",
       "      <td>1419.537037</td>\n",
       "      <td>1928.777778</td>\n",
       "    </tr>\n",
       "    <tr>\n",
       "      <th>6</th>\n",
       "      <td>화</td>\n",
       "      <td>1337.700935</td>\n",
       "      <td>1357.261682</td>\n",
       "    </tr>\n",
       "  </tbody>\n",
       "</table>\n",
       "</div>"
      ],
      "text/plain": [
       "  요일          시간대         배달건수\n",
       "0  금  1392.743119  1651.899083\n",
       "1  목  1341.431193  1421.348624\n",
       "2  수  1352.971698  1405.264151\n",
       "3  월  1345.869159  1293.626168\n",
       "4  일  1385.657407  1920.666667\n",
       "5  토  1419.537037  1928.777778\n",
       "6  화  1337.700935  1357.261682"
      ]
     },
     "execution_count": 7,
     "metadata": {},
     "output_type": "execute_result"
    },
    {
     "data": {
      "image/png": "[encoded data removed]",
      "text/plain": [
       "<Figure size 864x288 with 1 Axes>"
      ]
     },
     "metadata": {
      "needs_background": "light"
     },
     "output_type": "display_data"
    }
   ],
   "source": [
    "# 위와 동일한데, 용산구 레코드갯수가 적어서 '구로구'로 재확인\n",
    "freq_by_day = df[df['시군구']=='구로구'].groupby(['날짜', '요일']).sum().reset_index()\n",
    "freq_by_whichday = freq_by_day.groupby('요일').mean().reset_index()\n",
    "freq_by_whichday\n",
    "fig, ax = plt.subplots(figsize=(12, 4))\n",
    "ax.bar(freq_by_whichday['요일'], freq_by_whichday['배달건수'])\n",
    "ax.set_title('구로구 전체의 하루평균 배달건수 : 요일별')\n",
    "freq_by_whichday"
   ]
  },
  {
   "cell_type": "code",
   "execution_count": 8,
   "id": "f2526e98",
   "metadata": {
    "ExecuteTime": {
     "end_time": "2022-01-07T02:44:43.215867Z",
     "start_time": "2022-01-07T02:44:42.429284Z"
    }
   },
   "outputs": [
    {
     "data": {
      "text/plain": [
       "Text(0.5, 1.0, '서울지역 전체의 하루평균 배달건수 : 요일별')"
      ]
     },
     "execution_count": 8,
     "metadata": {},
     "output_type": "execute_result"
    },
    {
     "data": {
      "image/png": "[encoded data removed]",
      "text/plain": [
       "<Figure size 864x288 with 1 Axes>"
      ]
     },
     "metadata": {
      "needs_background": "light"
     },
     "output_type": "display_data"
    }
   ],
   "source": [
    "# ### [ 1-2-2 ] freqavg_by_day1: 광역시까지만 선택하고 시군구는 '전체'인 경우 \n",
    "\n",
    "freq_by_day = df[df['광역시도']=='서울특별시'].groupby(['날짜', '요일']).sum().reset_index()\n",
    "freq_by_whichday = freq_by_day.groupby('요일').mean().reset_index()\n",
    "freq_by_whichday\n",
    "fig, ax = plt.subplots(figsize=(12, 4))\n",
    "ax.bar(freq_by_day['요일'], freq_by_day['배달건수'])\n",
    "ax.set_title('서울지역 전체의 하루평균 배달건수 : 요일별')"
   ]
  },
  {
   "cell_type": "markdown",
   "id": "3a7874e5",
   "metadata": {},
   "source": [
    "### [1-3] 우리동네 배달보기  - 공휴일\n",
    "선택한 지역에서 각 공휴일 발생한 배달건수를 보여줌. 각 히스토그램의 높이는 2020년 해당 공휴일 하루동안 발생한 배달건수임.\n",
    "\n",
    "2019년, 2021년 데이터가 1년이 full로 있지 않은데, 연도별 fluctuation이 커서 1년치가 full로 있는 **2020년(각 연도별) 데이터만으로** 집계\n",
    "\n",
    "위와 마찬가지로, 특정 '공휴일'들을 비교하여 보여주고자 하기 때문에, 일일 건수로 보여줌\n",
    "\n",
    "- 연도를 선택할 수 있게해서 2019, 2020, 2021년을 선택하게\n",
    "- 가로축에 '평일'을 가장 오른쪽에 두고 bar만 색상을 다르게 "
   ]
  },
  {
   "cell_type": "code",
   "execution_count": 9,
   "id": "c918b9a8",
   "metadata": {
    "ExecuteTime": {
     "end_time": "2022-01-07T02:44:45.555025Z",
     "start_time": "2022-01-07T02:44:44.546935Z"
    }
   },
   "outputs": [
    {
     "data": {
      "text/plain": [
       "Text(0.5, 1.0, '서울특별시 2020년 공휴일 하루 배달건수')"
      ]
     },
     "execution_count": 9,
     "metadata": {},
     "output_type": "execute_result"
    },
    {
     "data": {
      "image/png": "[encoded data removed]",
      "text/plain": [
       "<Figure size 864x288 with 1 Axes>"
      ]
     },
     "metadata": {
      "needs_background": "light"
     },
     "output_type": "display_data"
    }
   ],
   "source": [
    "# ### [ 1-3-1 ] freqavg_by_holiday1: 광역시까지만 선택하고 시군구는 '전체'인 경우 \n",
    "\n",
    "freq_by_holiday = df[df['날짜'].str.contains('2020')]\n",
    "freq_by_holiday = freq_by_holiday[freq_by_holiday['광역시도']=='서울특별시'].groupby(['날짜','day_name']).sum().reset_index()\n",
    "freq_by_holiday = freq_by_holiday.groupby('day_name').mean().reset_index()\n",
    "fig, ax = plt.subplots(figsize=(12, 4))\n",
    "ax.bar(freq_by_holiday['day_name'], freq_by_holiday['배달건수'])\n",
    "ax.set_title('서울특별시 2020년 공휴일 하루 배달건수')"
   ]
  },
  {
   "cell_type": "code",
   "execution_count": 10,
   "id": "4f77dc6e",
   "metadata": {
    "ExecuteTime": {
     "end_time": "2022-01-07T02:44:47.433750Z",
     "start_time": "2022-01-07T02:44:46.594303Z"
    }
   },
   "outputs": [
    {
     "data": {
      "text/plain": [
       "Text(0.5, 1.0, '서초구 2020년 공휴일 하루 배달건수')"
      ]
     },
     "execution_count": 10,
     "metadata": {},
     "output_type": "execute_result"
    },
    {
     "data": {
      "image/png": "[encoded data removed]",
      "text/plain": [
       "<Figure size 864x288 with 1 Axes>"
      ]
     },
     "metadata": {
      "needs_background": "light"
     },
     "output_type": "display_data"
    }
   ],
   "source": [
    "# ### [ 1-3-2 ] freqavg_by_holiday2: 시군구까지 선택\n",
    "\n",
    "freq_by_holiday = df[df['날짜'].str.contains('2020')]\n",
    "freq_by_holiday = freq_by_holiday[freq_by_holiday['시군구']=='서초구'].groupby(['날짜','day_name']).sum().reset_index()\n",
    "freq_by_holiday = freq_by_holiday.groupby('day_name').mean().reset_index()\n",
    "fig, ax = plt.subplots(figsize=(12, 4))\n",
    "ax.bar(freq_by_holiday['day_name'], freq_by_holiday['배달건수'])\n",
    "ax.set_title('서초구 2020년 공휴일 하루 배달건수')"
   ]
  },
  {
   "cell_type": "markdown",
   "id": "8c615dcc",
   "metadata": {},
   "source": [
    "### [1-4] 우리동네 배달보기  - 코로나\n",
    "- 코로나 확진자 증감수와 배달건수 차트 동시에 보기 \n",
    "\n",
    "### 파일명 : delivery_corona.csv 로 만들어뒀음\n",
    "기본 데이터셋에 코로나 숫자 붙이고, 한달 단위로 바꾼 것\n",
    "\n",
    "- 보고자하는 광역시도 선택 ex)'서울'\n",
    "- 가로축은 year_month로\n",
    "- (코로나) 세로축 - 전일대비증감수 한달치 합산(=전달대비 이번달 증감수)\n",
    "- (배달) 세로축 - 해당지역의 한달간의 총 배달건수 (year_month로 groupby.sum)\n",
    "\n",
    "- 그래프 그릴 때 빨간 코로나 추세선이 앞에 보였으면 좋겠어요!"
   ]
  },
  {
   "cell_type": "code",
   "execution_count": 4,
   "id": "e40f4347",
   "metadata": {
    "ExecuteTime": {
     "end_time": "2022-01-07T04:28:59.906749Z",
     "start_time": "2022-01-07T04:28:59.873363Z"
    }
   },
   "outputs": [
    {
     "data": {
      "text/html": [
       "<div>\n",
       "<style scoped>\n",
       "    .dataframe tbody tr th:only-of-type {\n",
       "        vertical-align: middle;\n",
       "    }\n",
       "\n",
       "    .dataframe tbody tr th {\n",
       "        vertical-align: top;\n",
       "    }\n",
       "\n",
       "    .dataframe thead th {\n",
       "        text-align: right;\n",
       "    }\n",
       "</style>\n",
       "<table border=\"1\" class=\"dataframe\">\n",
       "  <thead>\n",
       "    <tr style=\"text-align: right;\">\n",
       "      <th></th>\n",
       "      <th>year_month</th>\n",
       "      <th>시간대</th>\n",
       "      <th>배달건수</th>\n",
       "      <th>지역</th>\n",
       "      <th>확진자수</th>\n",
       "      <th>전일대비증감수</th>\n",
       "      <th>십만명당발생률</th>\n",
       "      <th>사망자수</th>\n",
       "      <th>격리해제수</th>\n",
       "    </tr>\n",
       "  </thead>\n",
       "  <tbody>\n",
       "    <tr>\n",
       "      <th>0</th>\n",
       "      <td>2019-08</td>\n",
       "      <td>43584.0</td>\n",
       "      <td>7794.0</td>\n",
       "      <td>강원</td>\n",
       "      <td>0.0</td>\n",
       "      <td>0.0</td>\n",
       "      <td>0.00</td>\n",
       "      <td>0.0</td>\n",
       "      <td>0.0</td>\n",
       "    </tr>\n",
       "    <tr>\n",
       "      <th>1</th>\n",
       "      <td>2019-09</td>\n",
       "      <td>40165.0</td>\n",
       "      <td>6101.0</td>\n",
       "      <td>강원</td>\n",
       "      <td>0.0</td>\n",
       "      <td>0.0</td>\n",
       "      <td>0.00</td>\n",
       "      <td>0.0</td>\n",
       "      <td>0.0</td>\n",
       "    </tr>\n",
       "    <tr>\n",
       "      <th>2</th>\n",
       "      <td>2019-10</td>\n",
       "      <td>39445.0</td>\n",
       "      <td>6030.0</td>\n",
       "      <td>강원</td>\n",
       "      <td>0.0</td>\n",
       "      <td>0.0</td>\n",
       "      <td>0.00</td>\n",
       "      <td>0.0</td>\n",
       "      <td>0.0</td>\n",
       "    </tr>\n",
       "    <tr>\n",
       "      <th>3</th>\n",
       "      <td>2019-11</td>\n",
       "      <td>33754.0</td>\n",
       "      <td>4848.0</td>\n",
       "      <td>강원</td>\n",
       "      <td>0.0</td>\n",
       "      <td>0.0</td>\n",
       "      <td>0.00</td>\n",
       "      <td>0.0</td>\n",
       "      <td>0.0</td>\n",
       "    </tr>\n",
       "    <tr>\n",
       "      <th>4</th>\n",
       "      <td>2019-12</td>\n",
       "      <td>20933.0</td>\n",
       "      <td>2083.0</td>\n",
       "      <td>강원</td>\n",
       "      <td>0.0</td>\n",
       "      <td>0.0</td>\n",
       "      <td>0.00</td>\n",
       "      <td>0.0</td>\n",
       "      <td>0.0</td>\n",
       "    </tr>\n",
       "    <tr>\n",
       "      <th>...</th>\n",
       "      <td>...</td>\n",
       "      <td>...</td>\n",
       "      <td>...</td>\n",
       "      <td>...</td>\n",
       "      <td>...</td>\n",
       "      <td>...</td>\n",
       "      <td>...</td>\n",
       "      <td>...</td>\n",
       "      <td>...</td>\n",
       "    </tr>\n",
       "    <tr>\n",
       "      <th>439</th>\n",
       "      <td>2020-01</td>\n",
       "      <td>0.0</td>\n",
       "      <td>0.0</td>\n",
       "      <td>울산</td>\n",
       "      <td>0.0</td>\n",
       "      <td>0.0</td>\n",
       "      <td>0.00</td>\n",
       "      <td>0.0</td>\n",
       "      <td>0.0</td>\n",
       "    </tr>\n",
       "    <tr>\n",
       "      <th>440</th>\n",
       "      <td>2020-02</td>\n",
       "      <td>0.0</td>\n",
       "      <td>0.0</td>\n",
       "      <td>울산</td>\n",
       "      <td>41.0</td>\n",
       "      <td>17.0</td>\n",
       "      <td>0.00</td>\n",
       "      <td>0.0</td>\n",
       "      <td>0.0</td>\n",
       "    </tr>\n",
       "    <tr>\n",
       "      <th>441</th>\n",
       "      <td>2020-03</td>\n",
       "      <td>0.0</td>\n",
       "      <td>0.0</td>\n",
       "      <td>울산</td>\n",
       "      <td>924.0</td>\n",
       "      <td>22.0</td>\n",
       "      <td>79.09</td>\n",
       "      <td>0.0</td>\n",
       "      <td>237.0</td>\n",
       "    </tr>\n",
       "    <tr>\n",
       "      <th>442</th>\n",
       "      <td>2020-04</td>\n",
       "      <td>0.0</td>\n",
       "      <td>0.0</td>\n",
       "      <td>울산</td>\n",
       "      <td>1247.0</td>\n",
       "      <td>4.0</td>\n",
       "      <td>108.73</td>\n",
       "      <td>30.0</td>\n",
       "      <td>887.0</td>\n",
       "    </tr>\n",
       "    <tr>\n",
       "      <th>443</th>\n",
       "      <td>2020-05</td>\n",
       "      <td>0.0</td>\n",
       "      <td>0.0</td>\n",
       "      <td>울산</td>\n",
       "      <td>1444.0</td>\n",
       "      <td>9.0</td>\n",
       "      <td>125.91</td>\n",
       "      <td>31.0</td>\n",
       "      <td>1219.0</td>\n",
       "    </tr>\n",
       "  </tbody>\n",
       "</table>\n",
       "<p>424 rows × 9 columns</p>\n",
       "</div>"
      ],
      "text/plain": [
       "    year_month      시간대    배달건수  지역    확진자수  전일대비증감수  십만명당발생률  사망자수   격리해제수\n",
       "0      2019-08  43584.0  7794.0  강원     0.0      0.0     0.00   0.0     0.0\n",
       "1      2019-09  40165.0  6101.0  강원     0.0      0.0     0.00   0.0     0.0\n",
       "2      2019-10  39445.0  6030.0  강원     0.0      0.0     0.00   0.0     0.0\n",
       "3      2019-11  33754.0  4848.0  강원     0.0      0.0     0.00   0.0     0.0\n",
       "4      2019-12  20933.0  2083.0  강원     0.0      0.0     0.00   0.0     0.0\n",
       "..         ...      ...     ...  ..     ...      ...      ...   ...     ...\n",
       "439    2020-01      0.0     0.0  울산     0.0      0.0     0.00   0.0     0.0\n",
       "440    2020-02      0.0     0.0  울산    41.0     17.0     0.00   0.0     0.0\n",
       "441    2020-03      0.0     0.0  울산   924.0     22.0    79.09   0.0   237.0\n",
       "442    2020-04      0.0     0.0  울산  1247.0      4.0   108.73  30.0   887.0\n",
       "443    2020-05      0.0     0.0  울산  1444.0      9.0   125.91  31.0  1219.0\n",
       "\n",
       "[424 rows x 9 columns]"
      ]
     },
     "execution_count": 4,
     "metadata": {},
     "output_type": "execute_result"
    }
   ],
   "source": [
    "df = pd.read_csv('/Users/seulalee/OneDrive/MyStudy/210816_엘리스AI트랙/TeamProject1/Team11_NaplessRabbit/project-template/cleaned_data/delivery_corona.csv', index_col=0)\n",
    "df"
   ]
  },
  {
   "cell_type": "code",
   "execution_count": 7,
   "id": "c96ef6ab",
   "metadata": {
    "ExecuteTime": {
     "end_time": "2022-01-07T04:37:32.078530Z",
     "start_time": "2022-01-07T04:37:32.062771Z"
    }
   },
   "outputs": [],
   "source": [
    "# 지역 선택\n",
    "df = df[df['지역']=='서울']"
   ]
  },
  {
   "cell_type": "code",
   "execution_count": 14,
   "id": "27a1bf6b",
   "metadata": {
    "ExecuteTime": {
     "end_time": "2022-01-07T05:03:00.984671Z",
     "start_time": "2022-01-07T05:03:00.752890Z"
    }
   },
   "outputs": [
    {
     "data": {
      "image/png": "[encoded data removed]",
      "text/plain": [
       "<Figure size 1800x360 with 2 Axes>"
      ]
     },
     "metadata": {
      "needs_background": "light"
     },
     "output_type": "display_data"
    }
   ],
   "source": [
    "fig, ax1 = plt.subplots(figsize=(25,5))\n",
    "color_1 = 'tab:red'\n",
    "ax1.set_title('코로나 확진자&배달')\n",
    "\n",
    "ax1.set_xlabel('Date')\n",
    "ax1.set_ylabel('전달대비 확진자 증감수', fontsize=14, color=color_1)\n",
    "ax1.plot(df['year_month'], df['전일대비증감수'], color=color_1)\n",
    "\n",
    "ax2 = ax1.twinx()\n",
    "color_2 = 'tab:blue'\n",
    "ax2.set_ylabel('배달건수', fontsize=14, color=color_2)\n",
    "ax2.bar(df['year_month'], df['배달건수'], color=color_2)\n",
    "\n",
    "fig.tight_layout()\n",
    "plt.show()"
   ]
  },
  {
   "cell_type": "code",
   "execution_count": null,
   "id": "9bb917c7",
   "metadata": {},
   "outputs": [],
   "source": []
  }
 ],
 "metadata": {
  "kernelspec": {
   "display_name": "Python 3.8.8 64-bit ('base': conda)",
   "language": "python",
   "name": "python388jvsc74a57bd030f5928aed3b8b0dce2d12ea3d5e897cedae7f244e0b1c57b84a978cd9054218"
  },
  "language_info": {
   "codemirror_mode": {
    "name": "ipython",
    "version": 3
   },
   "file_extension": ".py",
   "mimetype": "text/x-python",
   "name": "python",
   "nbconvert_exporter": "python",
   "pygments_lexer": "ipython3",
   "version": "3.8.8"
  },
  "toc": {
   "base_numbering": 1,
   "nav_menu": {},
   "number_sections": true,
   "sideBar": true,
   "skip_h1_title": false,
   "title_cell": "Table of Contents",
   "title_sidebar": "Contents",
   "toc_cell": false,
   "toc_position": {},
   "toc_section_display": true,
   "toc_window_display": false
  },
  "varInspector": {
   "cols": {
    "lenName": 16,
    "lenType": 16,
    "lenVar": 40
   },
   "kernels_config": {
    "python": {
     "delete_cmd_postfix": "",
     "delete_cmd_prefix": "del ",
     "library": "var_list.py",
     "varRefreshCmd": "print(var_dic_list())"
    },
    "r": {
     "delete_cmd_postfix": ") ",
     "delete_cmd_prefix": "rm(",
     "library": "var_list.r",
     "varRefreshCmd": "cat(var_dic_list()) "
    }
   },
   "types_to_exclude": [
    "module",
    "function",
    "builtin_function_or_method",
    "instance",
    "_Feature"
   ],
   "window_display": false
  }
 },
 "nbformat": 4,
 "nbformat_minor": 5
}
